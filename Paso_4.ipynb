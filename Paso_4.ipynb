{
 "cells": [
  {
   "cell_type": "markdown",
   "id": "e790ff75-990e-4036-96bb-ee949f8991a1",
   "metadata": {},
   "source": [
    "Paso 4.- Data Loading and Refinement"
   ]
  },
  {
   "cell_type": "code",
   "execution_count": 1,
   "id": "d13b4ae9-c5f0-4c36-b6ea-f8c0be3fed6d",
   "metadata": {},
   "outputs": [],
   "source": [
    "import os\n",
    "import pandas as pd\n",
    "import shutil"
   ]
  },
  {
   "cell_type": "code",
   "execution_count": 3,
   "id": "36c16666-bb7c-4d6e-b9f1-d32632580f4c",
   "metadata": {},
   "outputs": [
    {
     "ename": "PermissionError",
     "evalue": "[WinError 5] Access is denied: 'C:\\\\Users\\\\brmh0'",
     "output_type": "error",
     "traceback": [
      "\u001b[1;31m---------------------------------------------------------------------------\u001b[0m",
      "\u001b[1;31mPermissionError\u001b[0m                           Traceback (most recent call last)",
      "Cell \u001b[1;32mIn[3], line 8\u001b[0m\n\u001b[0;32m      5\u001b[0m refined_reports_path \u001b[38;5;241m=\u001b[39m os\u001b[38;5;241m.\u001b[39mpath\u001b[38;5;241m.\u001b[39mjoin(refined_zone_path, \u001b[38;5;124m\"\u001b[39m\u001b[38;5;124mdata_quality_reports\u001b[39m\u001b[38;5;124m\"\u001b[39m)\n\u001b[0;32m      7\u001b[0m \u001b[38;5;66;03m# Crear la carpeta refined-zone y data_quality_reports dentro de refined-zone si no existen\u001b[39;00m\n\u001b[1;32m----> 8\u001b[0m os\u001b[38;5;241m.\u001b[39mmakedirs(refined_zone_path, exist_ok\u001b[38;5;241m=\u001b[39m\u001b[38;5;28;01mTrue\u001b[39;00m)\n\u001b[0;32m      9\u001b[0m os\u001b[38;5;241m.\u001b[39mmakedirs(refined_reports_path, exist_ok\u001b[38;5;241m=\u001b[39m\u001b[38;5;28;01mTrue\u001b[39;00m)\n",
      "File \u001b[1;32m<frozen os>:215\u001b[0m, in \u001b[0;36mmakedirs\u001b[1;34m(name, mode, exist_ok)\u001b[0m\n",
      "File \u001b[1;32m<frozen os>:215\u001b[0m, in \u001b[0;36mmakedirs\u001b[1;34m(name, mode, exist_ok)\u001b[0m\n",
      "    \u001b[1;31m[... skipping similar frames: makedirs at line 215 (2 times)]\u001b[0m\n",
      "File \u001b[1;32m<frozen os>:215\u001b[0m, in \u001b[0;36mmakedirs\u001b[1;34m(name, mode, exist_ok)\u001b[0m\n",
      "File \u001b[1;32m<frozen os>:225\u001b[0m, in \u001b[0;36mmakedirs\u001b[1;34m(name, mode, exist_ok)\u001b[0m\n",
      "\u001b[1;31mPermissionError\u001b[0m: [WinError 5] Access is denied: 'C:\\\\Users\\\\brmh0'"
     ]
    }
   ],
   "source": [
    "# Rutas de las carpetas\n",
    "raw_zone_path = \"C:\\\\Users\\\\brmh0\\\\OneDrive\\\\Escritorio\\\\Bases de datos avanzadas\\\\Proyecto Semestral\\\\raw_zone\\\\\"\n",
    "refined_zone_path = \"C:\\\\Users\\\\brmh0\\\\OneDrive\\\\Escritorio\\\\Bases de datos avanzadas\\\\Proyecto Semestral\\\\refined_zone\\\\\"\n",
    "data_quality_reports_path = os.path.join(raw_zone_path, \"data_quality_reports\")\n",
    "refined_reports_path = os.path.join(refined_zone_path, \"data_quality_reports\")\n",
    "\n",
    "# Crear la carpeta refined-zone y data_quality_reports dentro de refined-zone si no existen\n",
    "os.makedirs(refined_zone_path, exist_ok=True)\n",
    "os.makedirs(refined_reports_path, exist_ok=True)"
   ]
  },
  {
   "cell_type": "code",
   "execution_count": 5,
   "id": "4fa6781a-5de2-40fa-9a12-6ddccf5a0f72",
   "metadata": {},
   "outputs": [
    {
     "name": "stdout",
     "output_type": "stream",
     "text": [
      "Requirement already satisfied: pyarrow in c:\\users\\nef\\anaconda3\\lib\\site-packages (14.0.2)Note: you may need to restart the kernel to use updated packages.\n",
      "\n",
      "Requirement already satisfied: numpy>=1.16.6 in c:\\users\\nef\\anaconda3\\lib\\site-packages (from pyarrow) (1.26.4)\n"
     ]
    }
   ],
   "source": [
    "pip install pyarrow"
   ]
  },
  {
   "cell_type": "code",
   "execution_count": 12,
   "id": "a35bfd1e-f172-4a18-b2fe-3deee53c5923",
   "metadata": {},
   "outputs": [
    {
     "name": "stdout",
     "output_type": "stream",
     "text": [
      "Collecting fastparquet\n",
      "  Downloading fastparquet-2024.11.0-cp312-cp312-win_amd64.whl.metadata (4.3 kB)\n",
      "Requirement already satisfied: pandas>=1.5.0 in c:\\users\\brmh0\\appdata\\local\\programs\\python\\python312\\lib\\site-packages (from fastparquet) (2.2.2)\n",
      "Requirement already satisfied: numpy in c:\\users\\brmh0\\appdata\\local\\programs\\python\\python312\\lib\\site-packages (from fastparquet) (1.26.4)\n",
      "Collecting cramjam>=2.3 (from fastparquet)\n",
      "  Downloading cramjam-2.9.1-cp312-cp312-win_amd64.whl.metadata (5.0 kB)\n",
      "Collecting fsspec (from fastparquet)\n",
      "  Downloading fsspec-2024.12.0-py3-none-any.whl.metadata (11 kB)\n",
      "Requirement already satisfied: packaging in c:\\users\\brmh0\\appdata\\local\\programs\\python\\python312\\lib\\site-packages (from fastparquet) (24.1)\n",
      "Requirement already satisfied: python-dateutil>=2.8.2 in c:\\users\\brmh0\\appdata\\local\\programs\\python\\python312\\lib\\site-packages (from pandas>=1.5.0->fastparquet) (2.9.0.post0)\n",
      "Requirement already satisfied: pytz>=2020.1 in c:\\users\\brmh0\\appdata\\local\\programs\\python\\python312\\lib\\site-packages (from pandas>=1.5.0->fastparquet) (2024.1)\n",
      "Requirement already satisfied: tzdata>=2022.7 in c:\\users\\brmh0\\appdata\\local\\programs\\python\\python312\\lib\\site-packages (from pandas>=1.5.0->fastparquet) (2024.1)\n",
      "Requirement already satisfied: six>=1.5 in c:\\users\\brmh0\\appdata\\local\\programs\\python\\python312\\lib\\site-packages (from python-dateutil>=2.8.2->pandas>=1.5.0->fastparquet) (1.16.0)\n",
      "Downloading fastparquet-2024.11.0-cp312-cp312-win_amd64.whl (673 kB)\n",
      "   ---------------------------------------- 0.0/673.3 kB ? eta -:--:--\n",
      "   ---------------------------------------- 673.3/673.3 kB 6.6 MB/s eta 0:00:00\n",
      "Downloading cramjam-2.9.1-cp312-cp312-win_amd64.whl (2.1 MB)\n",
      "   ---------------------------------------- 0.0/2.1 MB ? eta -:--:--\n",
      "   ---------------------------------------- 2.1/2.1 MB 16.8 MB/s eta 0:00:00\n",
      "Downloading fsspec-2024.12.0-py3-none-any.whl (183 kB)\n",
      "Installing collected packages: fsspec, cramjam, fastparquet\n",
      "Successfully installed cramjam-2.9.1 fastparquet-2024.11.0 fsspec-2024.12.0\n",
      "Note: you may need to restart the kernel to use updated packages.\n"
     ]
    }
   ],
   "source": [
    "pip install fastparquet"
   ]
  },
  {
   "cell_type": "code",
   "execution_count": 13,
   "id": "e00e8327-ef28-45b4-980b-e40dc3f4cfab",
   "metadata": {},
   "outputs": [
    {
     "name": "stdout",
     "output_type": "stream",
     "text": [
      "Archivo convertido y movido: city_day_report.html -> C:\\Users\\brmh0\\OneDrive\\Escritorio\\Bases de datos avanzadas\\Proyecto Semestral\\refined_zone\\data_quality_reports\\city_day_report.parquet\n",
      "Archivo convertido y movido: city_hour_report.html -> C:\\Users\\brmh0\\OneDrive\\Escritorio\\Bases de datos avanzadas\\Proyecto Semestral\\refined_zone\\data_quality_reports\\city_hour_report.parquet\n",
      "Archivo convertido y movido: stations_report.html -> C:\\Users\\brmh0\\OneDrive\\Escritorio\\Bases de datos avanzadas\\Proyecto Semestral\\refined_zone\\data_quality_reports\\stations_report.parquet\n",
      "Archivo convertido y movido: station_day_report.html -> C:\\Users\\brmh0\\OneDrive\\Escritorio\\Bases de datos avanzadas\\Proyecto Semestral\\refined_zone\\data_quality_reports\\station_day_report.parquet\n",
      "Archivo convertido y movido: station_hour_report.html -> C:\\Users\\brmh0\\OneDrive\\Escritorio\\Bases de datos avanzadas\\Proyecto Semestral\\refined_zone\\data_quality_reports\\station_hour_report.parquet\n"
     ]
    }
   ],
   "source": [
    "# Listar todos los archivos HTML en la carpeta data_quality_reports\n",
    "html_files = [file for file in os.listdir(data_quality_reports_path) if file.endswith(\".html\")]\n",
    "\n",
    "# Procesar cada archivo HTML y convertirlo a Parquet\n",
    "for file in html_files:\n",
    "    html_path = os.path.join(data_quality_reports_path, file)\n",
    "    try:\n",
    "        # Verificar si el archivo existe\n",
    "        if os.path.exists(html_path):\n",
    "            # Leer el archivo HTML y convertirlo en un DataFrame\n",
    "            df = pd.read_html(html_path)[0]  # Supone que hay al menos una tabla en el HTML\n",
    "            \n",
    "            # Guardar el archivo como Parquet en refined-zone/data_quality_reports\n",
    "            parquet_path = os.path.join(refined_reports_path, file.replace(\".html\", \".parquet\"))\n",
    "            df.to_parquet(parquet_path, index=False)\n",
    "            \n",
    "            print(f\"Archivo convertido y movido: {file} -> {parquet_path}\")\n",
    "        else:\n",
    "            print(f\"Archivo no encontrado: {html_path}\")\n",
    "    except Exception as e:\n",
    "        print(f\"Error procesando el archivo {file}: {e}\")"
   ]
  },
  {
   "cell_type": "code",
   "execution_count": 9,
   "id": "a2e422a8-7e07-4915-a34d-f2086124882c",
   "metadata": {},
   "outputs": [
    {
     "name": "stdout",
     "output_type": "stream",
     "text": [
      "Archivo copiado a refined-zone: C:\\Users\\brmh0\\OneDrive\\Escritorio\\Bases de datos avanzadas\\Proyecto Semestral\\refined_zone\\city_day.parquet\n",
      "Archivo copiado a refined-zone: C:\\Users\\brmh0\\OneDrive\\Escritorio\\Bases de datos avanzadas\\Proyecto Semestral\\refined_zone\\city_hour.parquet\n",
      "Archivo copiado a refined-zone: C:\\Users\\brmh0\\OneDrive\\Escritorio\\Bases de datos avanzadas\\Proyecto Semestral\\refined_zone\\stations.parquet\n",
      "Archivo copiado a refined-zone: C:\\Users\\brmh0\\OneDrive\\Escritorio\\Bases de datos avanzadas\\Proyecto Semestral\\refined_zone\\station_day.parquet\n",
      "Archivo copiado a refined-zone: C:\\Users\\brmh0\\OneDrive\\Escritorio\\Bases de datos avanzadas\\Proyecto Semestral\\refined_zone\\station_hour.parquet\n",
      "Todos los archivos HTML convertidos a Parquet y copiados a refined-zone.\n"
     ]
    }
   ],
   "source": [
    "# Mover los archivos Parquet de raw-zone a refined-zone\n",
    "raw_parquet_files = [file for file in os.listdir(raw_zone_path) if file.endswith(\".parquet\")]\n",
    "\n",
    "for file in raw_parquet_files:\n",
    "    source_path = os.path.join(raw_zone_path, file)\n",
    "    destination_path = os.path.join(refined_zone_path, file)\n",
    "    \n",
    "    # Verificar si el archivo existe antes de copiarlo\n",
    "    if os.path.exists(source_path):\n",
    "        shutil.copy(source_path, destination_path)\n",
    "        print(f\"Archivo copiado a refined-zone: {destination_path}\")\n",
    "    else:\n",
    "        print(f\"Archivo no encontrado en raw-zone: {source_path}\")\n",
    "\n",
    "print(\"Todos los archivos HTML convertidos a Parquet y copiados a refined-zone.\")"
   ]
  }
 ],
 "metadata": {
  "kernelspec": {
   "display_name": "Python 3 (ipykernel)",
   "language": "python",
   "name": "python3"
  },
  "language_info": {
   "codemirror_mode": {
    "name": "ipython",
    "version": 3
   },
   "file_extension": ".py",
   "mimetype": "text/x-python",
   "name": "python",
   "nbconvert_exporter": "python",
   "pygments_lexer": "ipython3",
   "version": "3.12.4"
  }
 },
 "nbformat": 4,
 "nbformat_minor": 5
}
